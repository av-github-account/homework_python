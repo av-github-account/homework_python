{
 "cells": [
  {
   "cell_type": "code",
   "execution_count": 1,
   "metadata": {},
   "outputs": [
    {
     "name": "stdout",
     "output_type": "stream",
     "text": [
      "Hellow World\n"
     ]
    }
   ],
   "source": [
    "print ('Hellow World')\n"
   ]
  },
  {
   "cell_type": "code",
   "execution_count": 1,
   "metadata": {},
   "outputs": [
    {
     "name": "stdout",
     "output_type": "stream",
     "text": [
      "<class 'numpy.ndarray'>\n",
      "(3,)\n",
      "1 6\n",
      "a = 2\n",
      "[2 3 6]\n"
     ]
    }
   ],
   "source": [
    "import numpy as np              # импортируем библиотеку\n",
    "\n",
    "a=np.array([1,3,6])             # создали одномерный массив\n",
    "# a=np.array([1,3,6], [9,8,7])    # создали двумерный массив\n",
    "\n",
    "print (type(a))                 # вывод типа переменной\n",
    "print (a.shape)                 # размерность массива\n",
    "\n",
    "print (a[0], a[2])              # печать первого и третьего элемента массива\n",
    "\n",
    "a[0]=99                          # меняем первый элемент\n",
    "print (f'a = ' + str(a[0]))\n",
    "print (a)\n",
    "\n"
   ]
  },
  {
   "cell_type": "code",
   "execution_count": 1,
   "metadata": {},
   "outputs": [
    {
     "name": "stdout",
     "output_type": "stream",
     "text": [
      "<class 'str'>\n"
     ]
    }
   ],
   "source": [
    "s = input()\n",
    "print(type(s))"
   ]
  }
 ],
 "metadata": {
  "kernelspec": {
   "display_name": "base",
   "language": "python",
   "name": "python3"
  },
  "language_info": {
   "codemirror_mode": {
    "name": "ipython",
    "version": 3
   },
   "file_extension": ".py",
   "mimetype": "text/x-python",
   "name": "python",
   "nbconvert_exporter": "python",
   "pygments_lexer": "ipython3",
   "version": "3.12.4"
  }
 },
 "nbformat": 4,
 "nbformat_minor": 2
}
