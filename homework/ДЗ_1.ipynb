{
 "cells": [
  {
   "cell_type": "code",
   "execution_count": 22,
   "metadata": {},
   "outputs": [
    {
     "name": "stdout",
     "output_type": "stream",
     "text": [
      "На ноль делить нельзя!\n",
      "b / a = 100 / 0\n",
      "division by zero\n"
     ]
    }
   ],
   "source": [
    "# Домашнее задание 1\n",
    "# Задача 1\n",
    "a = int(input(\"Введите число a: \"))\n",
    "b = int(input(\"Введите делитель b: \"))\n",
    "\n",
    "try:\n",
    "    a/b\n",
    "except ZeroDivisionError as error:\n",
    "    print(\"На ноль делить нельзя!\")\n",
    "    print(f\"b / a = {a} / {b}\")\n",
    "    print(f\"{error}\")\n",
    "\n",
    "\n",
    "else:\n",
    "    print (f\"a : b = {a/b}\")\n"
   ]
  },
  {
   "cell_type": "code",
   "execution_count": 30,
   "metadata": {},
   "outputs": [
    {
     "name": "stdout",
     "output_type": "stream",
     "text": [
      "На ноль делить нельзя!\n",
      "b / a = 10 / 0\n",
      "division by zero\n"
     ]
    }
   ],
   "source": [
    "# Домашнее задание 1\n",
    "# Задача 2\n",
    "\n",
    "try:\n",
    "    a = int(input(\"Введите число a: \"))\n",
    "    b = int(input(\"Введите делитель b: \"))\n",
    "    a/b\n",
    "except ZeroDivisionError as error:\n",
    "    print(\"На ноль делить нельзя!\")\n",
    "    print(f\"b / a = {a} / {b}\")\n",
    "    print(f\"{error}\")\n",
    "\n",
    "except ValueError as error:\n",
    "    print(\"Введена строка вместо числа!\")\n",
    "    print(f\"{error}\")\n",
    "    \n",
    "else:\n",
    "    print (f\"a : b = {a/b}\")\n"
   ]
  },
  {
   "cell_type": "code",
   "execution_count": 99,
   "metadata": {},
   "outputs": [
    {
     "name": "stdout",
     "output_type": "stream",
     "text": [
      "В списке есть положительное число.\n",
      "В списке есть отрицательное число.\n",
      "Сумма чисел в списке: 13\n"
     ]
    }
   ],
   "source": [
    "# Домашнее задание 1\n",
    "# Задача 3\n",
    "list = [-1, 2, 3, 4, 5]\n",
    "total = sum(list)\n",
    "\n",
    "class Exception_positive (Exception):\n",
    "    pass\n",
    "\n",
    "class Exception_negative (Exception):\n",
    "    pass\n",
    "\n",
    "def test_positive(x):\n",
    "    for x in list:\n",
    "        if x>0:\n",
    "            raise Exception_positive (\"В списке есть положительное число.\")\n",
    "\n",
    "def test_negative(x):\n",
    "    for x in list:\n",
    "        if x<0:\n",
    "            raise Exception_negative (\"В списке есть отрицательное число.\")\n",
    "        \n",
    "try: \n",
    "    test_positive(list)\n",
    "except Exception_positive as e: \n",
    "    print(e)\n",
    "\n",
    "try: \n",
    "    test_negative(list)\n",
    "except Exception_negative as e: \n",
    "    print(e)\n",
    "\n",
    "print (f\"Сумма чисел в списке: {total}\")\n"
   ]
  },
  {
   "cell_type": "code",
   "execution_count": 66,
   "metadata": {},
   "outputs": [
    {
     "name": "stdout",
     "output_type": "stream",
     "text": [
      "[2, 5, 7, 10, 13]\n",
      "В списке меньше элементов, чем вы ввели!\n",
      "list index out of range\n"
     ]
    }
   ],
   "source": [
    "# Домашнее задание 1\n",
    "# Задача 4\n",
    "list = [2, 5, 7, 10, 13]\n",
    "\n",
    "print (list)\n",
    "\n",
    "n = int(input(\"Введите номер элемента списка n: \"))\n",
    "i = n - 1\n",
    "\n",
    "try:\n",
    "    print (list[i])\n",
    "\n",
    "except IndexError as error:\n",
    "    print (\"В списке меньше элементов, чем вы ввели!\")\n",
    "    print (error)"
   ]
  },
  {
   "cell_type": "code",
   "execution_count": 15,
   "metadata": {},
   "outputs": [
    {
     "name": "stdout",
     "output_type": "stream",
     "text": [
      "Введена строка вместо числа!\n",
      "could not convert string to float: ''\n"
     ]
    }
   ],
   "source": [
    "# Домашнее задание 1\n",
    "# Задача 5\n",
    "\n",
    "xyz = input(\"Введите число:\")\n",
    "\n",
    "try:\n",
    "    xyz = float(xyz)\n",
    "except ValueError as error:\n",
    "    print (\"Введена строка вместо числа!\")\n",
    "    print (error)\n",
    "else: print (int(xyz))\n"
   ]
  },
  {
   "cell_type": "code",
   "execution_count": 6,
   "metadata": {},
   "outputs": [
    {
     "name": "stdout",
     "output_type": "stream",
     "text": [
      "Введено отрицальное число!\n",
      "math domain error\n"
     ]
    }
   ],
   "source": [
    "# Домашнее задание 1\n",
    "# Задача 6\n",
    "import math\n",
    "x = int(input(\"Введите число:\"))\n",
    "\n",
    "try:\n",
    "    kvad_koren = math.sqrt(x)\n",
    "except NameError as error:\n",
    "    print (\"Не подключена библиотека math\")\n",
    "    print (error)\n",
    "except ValueError as error:\n",
    "    print (\"Введено отрицальное число!\")\n",
    "    print (error)  \n",
    "else: print (kvad_koren)"
   ]
  },
  {
   "cell_type": "code",
   "execution_count": 67,
   "metadata": {},
   "outputs": [
    {
     "ename": "Exception",
     "evalue": "min must be less than 10",
     "output_type": "error",
     "traceback": [
      "\u001b[0;31m---------------------------------------------------------------------------\u001b[0m",
      "\u001b[0;31mException\u001b[0m                                 Traceback (most recent call last)",
      "Cell \u001b[0;32mIn[67], line 3\u001b[0m\n\u001b[1;32m      1\u001b[0m \u001b[38;5;28mmin\u001b[39m \u001b[38;5;241m=\u001b[39m \u001b[38;5;241m100\u001b[39m\n\u001b[1;32m      2\u001b[0m \u001b[38;5;28;01mif\u001b[39;00m \u001b[38;5;28mmin\u001b[39m \u001b[38;5;241m>\u001b[39m \u001b[38;5;241m10\u001b[39m:\n\u001b[0;32m----> 3\u001b[0m     \u001b[38;5;28;01mraise\u001b[39;00m \u001b[38;5;167;01mException\u001b[39;00m(\u001b[38;5;124m'\u001b[39m\u001b[38;5;124mmin must be less than 10\u001b[39m\u001b[38;5;124m'\u001b[39m)\n",
      "\u001b[0;31mException\u001b[0m: min must be less than 10"
     ]
    }
   ],
   "source": [
    "min = 100\n",
    "if min > 10:\n",
    "    raise Exception('min must be less than 10')"
   ]
  },
  {
   "cell_type": "code",
   "execution_count": 8,
   "metadata": {},
   "outputs": [
    {
     "name": "stdout",
     "output_type": "stream",
     "text": [
      "Введено отрицальное число!\n",
      "math domain error\n",
      "None\n"
     ]
    }
   ],
   "source": [
    "import math\n",
    "def custom_sqrt (arg):\n",
    "    try:\n",
    "        return math.sqrt(arg)\n",
    "    except NameError as error:\n",
    "        print (\"Не подключена библиотека math!\")\n",
    "        print (error)\n",
    "    except ValueError as error:\n",
    "        print (\"Введено отрицальное число!\")\n",
    "        print (error)\n",
    "\n",
    "x = int(input(\"Введите число: \"))\n",
    "print (custom_sqrt (x))"
   ]
  }
 ],
 "metadata": {
  "kernelspec": {
   "display_name": "base",
   "language": "python",
   "name": "python3"
  },
  "language_info": {
   "codemirror_mode": {
    "name": "ipython",
    "version": 3
   },
   "file_extension": ".py",
   "mimetype": "text/x-python",
   "name": "python",
   "nbconvert_exporter": "python",
   "pygments_lexer": "ipython3",
   "version": "3.12.4"
  }
 },
 "nbformat": 4,
 "nbformat_minor": 2
}
